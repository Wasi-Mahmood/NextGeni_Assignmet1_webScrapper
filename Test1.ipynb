{
 "cells": [
  {
   "cell_type": "code",
   "execution_count": 1,
   "metadata": {},
   "outputs": [],
   "source": [
    "from WebScrapper_Asign1 import get_cheapest_website"
   ]
  },
  {
   "cell_type": "code",
   "execution_count": 2,
   "metadata": {},
   "outputs": [
    {
     "name": "stdout",
     "output_type": "stream",
     "text": [
      "Follow the link to the cheapest Website ishopping:  https://www.ishopping.pk/catalogsearch/result/?q=Infinix+note+30\n",
      "Cheapest Website 2 Dataframe:\n",
      "                                               Title    Price\n",
      "0   Infinix Note 30 Dual Sim-Interstellar Blue-25...  47248.0\n",
      "1   Infinix Note 30 Dual Sim-Sunset Gold-256GB - ...  47248.0\n",
      "2   Infinix Note 30 Dual Sim-Obsidian Black-256GB...  47248.0\n"
     ]
    }
   ],
   "source": [
    "daraz_url = \"https://www.daraz.pk/catalog/?_keyori=ss&from=input&page=1&q=infinix+note+30&spm=a2a0e.pdp.search.go\"\n",
    "ishopping_url = \"https://www.ishopping.pk/catalogsearch/result/?q=Infinix+note+30\"\n",
    "\n",
    "daraz_args= ['span', 'class', 'currency--GVKjl', 'div', 'class', 'title--wFj93']\n",
    "ishopping_args = ['div','class','product-item-details','span','data-price-type','finalPrice','span','class','price', 'a', 'class', 'product-item-link']\n",
    "\n",
    "\n",
    "kwargs ={\n",
    "    'daraz_args': daraz_args,\n",
    "    'ishopping_args': ishopping_args\n",
    "}\n",
    "key_word=\"infinix note 30\"\n",
    "get_cheapest_website(daraz_url,ishopping_url,key_word,**kwargs)\n"
   ]
  }
 ],
 "metadata": {
  "kernelspec": {
   "display_name": "NextGeni",
   "language": "python",
   "name": "python3"
  },
  "language_info": {
   "codemirror_mode": {
    "name": "ipython",
    "version": 3
   },
   "file_extension": ".py",
   "mimetype": "text/x-python",
   "name": "python",
   "nbconvert_exporter": "python",
   "pygments_lexer": "ipython3",
   "version": "3.9.1"
  }
 },
 "nbformat": 4,
 "nbformat_minor": 2
}
